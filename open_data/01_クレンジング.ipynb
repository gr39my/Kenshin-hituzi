{
 "cells": [
  {
   "cell_type": "markdown",
   "metadata": {},
   "source": [
    "# ファイル名を取得"
   ]
  },
  {
   "cell_type": "code",
   "execution_count": 114,
   "metadata": {},
   "outputs": [],
   "source": [
    "import os\n",
    "import pandas as pd\n",
    "import numpy as np\n",
    "import re"
   ]
  },
  {
   "cell_type": "code",
   "execution_count": 121,
   "metadata": {},
   "outputs": [],
   "source": [
    "def set_range(range_str):\n",
    "    if pd.isna(range_str):  # NaNの場合\n",
    "        return pd.Series([np.nan, np.nan])\n",
    "    \n",
    "    # 小数点を考慮した正規表現\n",
    "    # 「X以上Y未満」のパターン\n",
    "    match_between = re.match(r'([0-9]+(\\.[0-9]+)?)以上([0-9]+(\\.[0-9]+)?)未満', range_str)\n",
    "    if match_between:\n",
    "        lower_bound = float(match_between.group(1))\n",
    "        upper_bound = float(match_between.group(3))  # Y未満なのでY\n",
    "        return pd.Series([lower_bound, upper_bound])\n",
    "    \n",
    "    # 「X以上」のパターン\n",
    "    match_above = re.match(r'([0-9]+(\\.[0-9]+)?)以上', range_str)\n",
    "    if match_above:\n",
    "        lower_bound = float(match_above.group(1))\n",
    "        return pd.Series([lower_bound, float('inf')])  # 上限は無限大\n",
    "    \n",
    "    # 「Y未満」のパターン\n",
    "    match_below = re.match(r'([0-9]+(\\.[0-9]+)?)未満', range_str)\n",
    "    if match_below:\n",
    "        upper_bound = float(match_below.group(1))  # Y未満なのでY\n",
    "        return pd.Series([0, upper_bound])  # 下限は0\n",
    "    \n",
    "    # その他のケース\n",
    "    return pd.Series([np.nan, np.nan])  # NaNの場合"
   ]
  },
  {
   "cell_type": "code",
   "execution_count": 122,
   "metadata": {},
   "outputs": [
    {
     "data": {
      "text/plain": [
       "['中性脂肪.xlsx',\n",
       " '血清クレアチニン.xlsx',\n",
       " 'HDL-C.xlsx',\n",
       " '尿糖.xlsx',\n",
       " 'γ-GTP.xlsx',\n",
       " 'BMI.xlsx',\n",
       " '腹囲.xlsx',\n",
       " 'HbA1C.xlsx',\n",
       " '空腹時血糖.xlsx',\n",
       " 'GPT(ALT).xlsx',\n",
       " '拡張期血圧.xlsx',\n",
       " 'eGFR.xlsx',\n",
       " 'GOT(AST).xlsx',\n",
       " '尿蛋白.xlsx',\n",
       " '収縮期血圧.xlsx',\n",
       " 'LDL-C.xlsx']"
      ]
     },
     "execution_count": 122,
     "metadata": {},
     "output_type": "execute_result"
    }
   ],
   "source": [
    "# カレントディレクトリのファイル名を取得\n",
    "directory_path = './'  # 作業しているディレクトリのパス\n",
    "file_names = [f for f in os.listdir(directory_path) if f.endswith('.xlsx')]\n",
    "\n",
    "file_names"
   ]
  },
  {
   "cell_type": "markdown",
   "metadata": {},
   "source": [
    "# データ読み込みと前処理"
   ]
  },
  {
   "cell_type": "code",
   "execution_count": 123,
   "metadata": {},
   "outputs": [],
   "source": [
    "# ファイルごとのデータフレームを格納するリスト\n",
    "dfs = []\n",
    "\n",
    "# ファイルを順番に読み込み、データフレームとしてリストに格納\n",
    "for file in file_names:\n",
    "    df = pd.read_excel(file, skiprows=1)\n",
    "    dfs.append(df)"
   ]
  },
  {
   "cell_type": "code",
   "execution_count": 124,
   "metadata": {},
   "outputs": [
    {
     "data": {
      "text/plain": [
       "'中性脂肪.xlsx'"
      ]
     },
     "execution_count": 124,
     "metadata": {},
     "output_type": "execute_result"
    }
   ],
   "source": [
    "dfs[0]\n",
    "file_names[0]"
   ]
  },
  {
   "cell_type": "code",
   "execution_count": 125,
   "metadata": {},
   "outputs": [
    {
     "name": "stdout",
     "output_type": "stream",
     "text": [
      "すべてのファイルを処理し、保存しました。\n"
     ]
    }
   ],
   "source": [
    "\n",
    "# データフレームを格納するリスト\n",
    "dfs = []\n",
    "\n",
    "# 各 Excel ファイルに対して処理を行う\n",
    "for file in file_names:\n",
    "    # データを読み込む（最初の行をヘッダーとして使用しない）\n",
    "    df = pd.read_excel(file, header=None)\n",
    "\n",
    "    # 1行目のヘッダー情報を補正して、性別と年齢層に分ける\n",
    "    df.columns = ['都道府県', '検査値範囲', '男_40～44歳', '男_45～49歳', '男_50～54歳', \n",
    "                  '男_55～59歳', '男_60～64歳', '男_65～69歳', '男_70～74歳', '男_中計',\n",
    "                  '女_40～44歳', '女_45～49歳', '女_50～54歳', '女_55～59歳', \n",
    "                  '女_60～64歳', '女_65～69歳', '女_70～74歳', '女_中計']\n",
    "\n",
    "    # 男_中計と女_中計列を削除\n",
    "    df = df.drop(columns=['男_中計', '女_中計'])\n",
    "\n",
    "    # NaNのある行は必要なデータではないので削除\n",
    "    df = df.dropna(how='all')\n",
    "\n",
    "    # 0~2行目を削除する\n",
    "    df = df.drop(index=[0, 1, 2]).reset_index(drop=True)\n",
    "\n",
    "    # '地域' 列の NaN を直前の値で埋める\n",
    "    df['都道府県'] = df['都道府県'].ffill()\n",
    "\n",
    "    # 地域が「都道府県判別不可」の行を削除\n",
    "    df = df[df['都道府県'] != '都道府県判別不可']\n",
    "    \n",
    "    # 0~1行目を削除する\n",
    "    df = df.drop(index=[0, 1]).reset_index(drop=True)\n",
    "\n",
    "    # 男性データを整理\n",
    "    df_men = df[['都道府県', '検査値範囲', '男_40～44歳', '男_45～49歳', '男_50～54歳',\n",
    "                  '男_55～59歳', '男_60～64歳', '男_65～69歳', '男_70～74歳']]\n",
    "    df_men = pd.melt(df_men, id_vars=['都道府県', '検査値範囲'], \n",
    "                     var_name='年齢区分', value_name='人数')\n",
    "    df_men['性別'] = '男性'\n",
    "    df_men['年齢区分'] = df_men['年齢区分'].str.replace('男_', '')\n",
    "\n",
    "    # 女性データを整理\n",
    "    df_women = df[['都道府県', '検査値範囲', '女_40～44歳', '女_45～49歳', '女_50～54歳',\n",
    "                   '女_55～59歳', '女_60～64歳', '女_65～69歳', '女_70～74歳']]\n",
    "    df_women = pd.melt(df_women, id_vars=['都道府県', '検査値範囲'], \n",
    "                       var_name='年齢区分', value_name='人数')\n",
    "    df_women['性別'] = '女性'\n",
    "    df_women['年齢区分'] = df_women['年齢区分'].str.replace('女_', '')\n",
    "\n",
    "    # 男性と女性のデータを結合\n",
    "    df_cleaned = pd.concat([df_men, df_women], ignore_index=True)\n",
    "    \n",
    "    # '下限' と '上限' の新しい列を追加\n",
    "    df_cleaned[['下限値', '上限値']] = df_cleaned['検査値範囲'].apply(set_range)\n",
    "\n",
    "    \n",
    "    # 男_中計と女_中計列を削除\n",
    "    df_cleaned = df_cleaned.drop(columns=['検査値範囲'])    \n",
    "    \n",
    "    # 列の順番を変更\n",
    "    df_cleaned = df_cleaned[['都道府県', '性別', '年齢区分', '下限値', '上限値', '人数']]\n",
    "    \n",
    "    # CSVファイルとして保存\n",
    "    csv_file_name = file.replace('.xlsx', '.csv')\n",
    "    df_cleaned.to_csv(\"data/\" + csv_file_name, index=False, encoding='utf-8-sig')\n",
    "\n",
    "print(\"すべてのファイルを処理し、保存しました。\")"
   ]
  },
  {
   "cell_type": "code",
   "execution_count": 126,
   "metadata": {},
   "outputs": [
    {
     "data": {
      "text/html": [
       "<div>\n",
       "<style scoped>\n",
       "    .dataframe tbody tr th:only-of-type {\n",
       "        vertical-align: middle;\n",
       "    }\n",
       "\n",
       "    .dataframe tbody tr th {\n",
       "        vertical-align: top;\n",
       "    }\n",
       "\n",
       "    .dataframe thead th {\n",
       "        text-align: right;\n",
       "    }\n",
       "</style>\n",
       "<table border=\"1\" class=\"dataframe\">\n",
       "  <thead>\n",
       "    <tr style=\"text-align: right;\">\n",
       "      <th></th>\n",
       "      <th>都道府県</th>\n",
       "      <th>性別</th>\n",
       "      <th>年齢区分</th>\n",
       "      <th>下限値</th>\n",
       "      <th>上限値</th>\n",
       "      <th>人数</th>\n",
       "    </tr>\n",
       "  </thead>\n",
       "  <tbody>\n",
       "    <tr>\n",
       "      <th>0</th>\n",
       "      <td>北海道</td>\n",
       "      <td>男性</td>\n",
       "      <td>40～44歳</td>\n",
       "      <td>180.0</td>\n",
       "      <td>inf</td>\n",
       "      <td>4836</td>\n",
       "    </tr>\n",
       "    <tr>\n",
       "      <th>1</th>\n",
       "      <td>北海道</td>\n",
       "      <td>男性</td>\n",
       "      <td>40～44歳</td>\n",
       "      <td>160.0</td>\n",
       "      <td>180.0</td>\n",
       "      <td>7958</td>\n",
       "    </tr>\n",
       "    <tr>\n",
       "      <th>2</th>\n",
       "      <td>北海道</td>\n",
       "      <td>男性</td>\n",
       "      <td>40～44歳</td>\n",
       "      <td>140.0</td>\n",
       "      <td>160.0</td>\n",
       "      <td>14689</td>\n",
       "    </tr>\n",
       "    <tr>\n",
       "      <th>3</th>\n",
       "      <td>北海道</td>\n",
       "      <td>男性</td>\n",
       "      <td>40～44歳</td>\n",
       "      <td>120.0</td>\n",
       "      <td>140.0</td>\n",
       "      <td>20193</td>\n",
       "    </tr>\n",
       "    <tr>\n",
       "      <th>4</th>\n",
       "      <td>北海道</td>\n",
       "      <td>男性</td>\n",
       "      <td>40～44歳</td>\n",
       "      <td>100.0</td>\n",
       "      <td>120.0</td>\n",
       "      <td>18756</td>\n",
       "    </tr>\n",
       "    <tr>\n",
       "      <th>...</th>\n",
       "      <td>...</td>\n",
       "      <td>...</td>\n",
       "      <td>...</td>\n",
       "      <td>...</td>\n",
       "      <td>...</td>\n",
       "      <td>...</td>\n",
       "    </tr>\n",
       "    <tr>\n",
       "      <th>3943</th>\n",
       "      <td>沖縄県</td>\n",
       "      <td>女性</td>\n",
       "      <td>70～74歳</td>\n",
       "      <td>160.0</td>\n",
       "      <td>180.0</td>\n",
       "      <td>1345</td>\n",
       "    </tr>\n",
       "    <tr>\n",
       "      <th>3944</th>\n",
       "      <td>沖縄県</td>\n",
       "      <td>女性</td>\n",
       "      <td>70～74歳</td>\n",
       "      <td>140.0</td>\n",
       "      <td>160.0</td>\n",
       "      <td>2832</td>\n",
       "    </tr>\n",
       "    <tr>\n",
       "      <th>3945</th>\n",
       "      <td>沖縄県</td>\n",
       "      <td>女性</td>\n",
       "      <td>70～74歳</td>\n",
       "      <td>120.0</td>\n",
       "      <td>140.0</td>\n",
       "      <td>4152</td>\n",
       "    </tr>\n",
       "    <tr>\n",
       "      <th>3946</th>\n",
       "      <td>沖縄県</td>\n",
       "      <td>女性</td>\n",
       "      <td>70～74歳</td>\n",
       "      <td>100.0</td>\n",
       "      <td>120.0</td>\n",
       "      <td>4083</td>\n",
       "    </tr>\n",
       "    <tr>\n",
       "      <th>3947</th>\n",
       "      <td>沖縄県</td>\n",
       "      <td>女性</td>\n",
       "      <td>70～74歳</td>\n",
       "      <td>0.0</td>\n",
       "      <td>100.0</td>\n",
       "      <td>3395</td>\n",
       "    </tr>\n",
       "  </tbody>\n",
       "</table>\n",
       "<p>3948 rows × 6 columns</p>\n",
       "</div>"
      ],
      "text/plain": [
       "     都道府県  性別    年齢区分    下限値    上限値     人数\n",
       "0     北海道  男性  40～44歳  180.0    inf   4836\n",
       "1     北海道  男性  40～44歳  160.0  180.0   7958\n",
       "2     北海道  男性  40～44歳  140.0  160.0  14689\n",
       "3     北海道  男性  40～44歳  120.0  140.0  20193\n",
       "4     北海道  男性  40～44歳  100.0  120.0  18756\n",
       "...   ...  ..     ...    ...    ...    ...\n",
       "3943  沖縄県  女性  70～74歳  160.0  180.0   1345\n",
       "3944  沖縄県  女性  70～74歳  140.0  160.0   2832\n",
       "3945  沖縄県  女性  70～74歳  120.0  140.0   4152\n",
       "3946  沖縄県  女性  70～74歳  100.0  120.0   4083\n",
       "3947  沖縄県  女性  70～74歳    0.0  100.0   3395\n",
       "\n",
       "[3948 rows x 6 columns]"
      ]
     },
     "execution_count": 126,
     "metadata": {},
     "output_type": "execute_result"
    }
   ],
   "source": [
    "df_cleaned"
   ]
  },
  {
   "cell_type": "code",
   "execution_count": null,
   "metadata": {},
   "outputs": [],
   "source": []
  },
  {
   "cell_type": "code",
   "execution_count": null,
   "metadata": {},
   "outputs": [],
   "source": []
  }
 ],
 "metadata": {
  "kernelspec": {
   "display_name": "Python 3",
   "language": "python",
   "name": "python3"
  },
  "language_info": {
   "codemirror_mode": {
    "name": "ipython",
    "version": 3
   },
   "file_extension": ".py",
   "mimetype": "text/x-python",
   "name": "python",
   "nbconvert_exporter": "python",
   "pygments_lexer": "ipython3",
   "version": "3.8.5"
  }
 },
 "nbformat": 4,
 "nbformat_minor": 2
}
